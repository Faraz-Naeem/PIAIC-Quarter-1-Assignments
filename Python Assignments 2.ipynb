{
 "cells": [
  {
   "cell_type": "markdown",
   "metadata": {},
   "source": [
    "# Python Assignments 2\n",
    "Name: Faraz Naeem\n",
    "Reg: PIAIC65534\n",
    "Class: AI (9 to 12 Quarter 1)\n",
    "City: Islamabad"
   ]
  },
  {
   "cell_type": "markdown",
   "metadata": {},
   "source": [
    "Question 1:\n",
    "Write a program to solve a classic ancient Chinese puzzle:\n",
    "We count 35 heads and 94 legs among the chickens and rabbits in a\n",
    "farm. How many rabbits and how many chickens do we have?"
   ]
  },
  {
   "cell_type": "code",
   "execution_count": 1,
   "metadata": {},
   "outputs": [
    {
     "name": "stdout",
     "output_type": "stream",
     "text": [
      "Chickens:  23\n",
      "Rabbits:  12\n"
     ]
    }
   ],
   "source": [
    "def solution(heads,legs):\n",
    "\n",
    "    Animals_Raised_up_2_legs = heads * 2\n",
    "    Legs_raised_up_2 = 94 - Animals_Raised_up_2_legs\n",
    "    # if Chicken raises up 2 legs, they will fell\n",
    "    # Remaining legs are of Rabbits\n",
    "    Rabbits = Legs_raised_up_2 // 2   \n",
    "    Chickens = heads - Rabbits \n",
    "    return Rabbits,Chickens\n",
    "\n",
    "\n",
    "heads = 35\n",
    "legs = 94\n",
    "(Rabbits,Chickens)= solution(heads,legs)\n",
    "print(\"Chickens: \",Chickens)\n",
    "print(\"Rabbits: \",Rabbits)\n"
   ]
  },
  {
   "cell_type": "markdown",
   "metadata": {},
   "source": [
    "Question 2:\n",
    "Please write a program which accepts a string from console and print\n",
    "the characters that have even indexes."
   ]
  },
  {
   "cell_type": "code",
   "execution_count": 2,
   "metadata": {},
   "outputs": [
    {
     "name": "stdout",
     "output_type": "stream",
     "text": [
      "Enter String: Everyday is a new day in world\n",
      "Eeya sanwdyi ol\n"
     ]
    }
   ],
   "source": [
    "n = input(\"Enter String: \")\n",
    "new = \"\"\n",
    "for i in range(0,len(n),2):\n",
    "    new += n[i]\n",
    "print(new)"
   ]
  },
  {
   "cell_type": "markdown",
   "metadata": {},
   "source": [
    "Question 3:\n",
    "Please write a program which accepts a string from console and print\n",
    "it in reverse order."
   ]
  },
  {
   "cell_type": "code",
   "execution_count": 7,
   "metadata": {},
   "outputs": [
    {
     "name": "stdout",
     "output_type": "stream",
     "text": [
      "Enter String: Hello world\n",
      "Original String: \n",
      " Hello world\n",
      "Reverse String: \n",
      " dlrow olleH\n"
     ]
    }
   ],
   "source": [
    "n = input(\"Enter String: \")\n",
    "sl=len(n) \n",
    "Final=n[sl::-1]\n",
    "print(\"Original String: \\n\",n)\n",
    "print(\"Reverse String: \\n\",Final)"
   ]
  },
  {
   "cell_type": "markdown",
   "metadata": {},
   "source": [
    "Question 4:\n",
    "Please write a program which count and print the numbers of each\n",
    "character in a string input by console."
   ]
  },
  {
   "cell_type": "code",
   "execution_count": 1,
   "metadata": {},
   "outputs": [
    {
     "name": "stdout",
     "output_type": "stream",
     "text": [
      "Enter String: Hello World\n",
      "H , 1\n",
      "e , 1\n",
      "l , 3\n",
      "o , 2\n",
      "W , 1\n",
      "r , 1\n",
      "d , 1\n"
     ]
    }
   ],
   "source": [
    "n = input(\"Enter String: \")\n",
    "n1 = {}\n",
    "\n",
    "for i in range(0,len(n)):\n",
    "    value = 0\n",
    "    for j in range(0,i+1):\n",
    "        if n[i] == n[j]:\n",
    "            value += 1\n",
    "    n1[n[i]]=value\n",
    "del n1[\" \"]\n",
    "for i,j in n1.items():\n",
    "    print(i,\",\",j)"
   ]
  },
  {
   "cell_type": "markdown",
   "metadata": {},
   "source": [
    "Question 5:\n",
    "Define a class named Shape and its subclass Square. The Square class\n",
    "has an init function which takes a length as argument. Both classes\n",
    "have a area function which can print the area of the shape where\n",
    "Shape's area is 0 by default."
   ]
  },
  {
   "cell_type": "code",
   "execution_count": 2,
   "metadata": {},
   "outputs": [
    {
     "name": "stdout",
     "output_type": "stream",
     "text": [
      "Enter Sqaure Length: 55.7\n",
      "Sqaure Area:  3102.4900000000002\n"
     ]
    }
   ],
   "source": [
    "class shape():\n",
    "    def __init__ (self,length,breadth):\n",
    "        self.length = length\n",
    "        self.breadth = breadth\n",
    "    \n",
    "    def area(self):\n",
    "        area = 0\n",
    "        return area\n",
    "\n",
    "class square(shape):\n",
    "    def __init__(self,length):\n",
    "        self.length = length\n",
    "\n",
    "    def area(self):\n",
    "        area = self.length ** 2\n",
    "        return area\n",
    "\n",
    "n = float(input(\"Enter Sqaure Length: \"))\n",
    "squ = square(n)\n",
    "A = squ.area()\n",
    "print(\"Sqaure Area: \",A)"
   ]
  },
  {
   "cell_type": "markdown",
   "metadata": {},
   "source": [
    "Question 6:\n",
    "Write a function to compute 5/0 and use try/except to catch the\n",
    "exceptions."
   ]
  },
  {
   "cell_type": "code",
   "execution_count": 5,
   "metadata": {},
   "outputs": [
    {
     "name": "stdout",
     "output_type": "stream",
     "text": [
      "Cannot be divisble\n"
     ]
    }
   ],
   "source": [
    "def divi(A,B):\n",
    "    try:\n",
    "        result =  A // B\n",
    "        print(A,\"Divided by \",B,\" : \",result)\n",
    "    except:\n",
    "        print(\"Cannot be divisble\")\n",
    "\n",
    "divi(5,0)"
   ]
  },
  {
   "cell_type": "markdown",
   "metadata": {},
   "source": [
    "Question 7:\n",
    "Assuming that we have some email addresses in the\n",
    "\"username@companyname.com\" format, please write program to print the\n",
    "user name of a given email address. Both user names and company\n",
    "names are composed of letters only."
   ]
  },
  {
   "cell_type": "code",
   "execution_count": 7,
   "metadata": {},
   "outputs": [
    {
     "name": "stdout",
     "output_type": "stream",
     "text": [
      "Enter email Id: faraz@gmail.com\n",
      "User Name:  Faraz\n"
     ]
    }
   ],
   "source": [
    "n = input(\"Enter email Id: \")\n",
    "index = n.index('@')\n",
    "user_name = n[:index]\n",
    "print(\"User Name: \",user_name.title())"
   ]
  },
  {
   "cell_type": "markdown",
   "metadata": {},
   "source": [
    "Question 8:\n",
    "Write a program which accepts a sequence of words separated by\n",
    "whitespace as input to print the words composed of digits only."
   ]
  },
  {
   "cell_type": "code",
   "execution_count": 1,
   "metadata": {},
   "outputs": [
    {
     "name": "stdout",
     "output_type": "stream",
     "text": [
      "Enter string: There are 4 people 5 dogs and 6 cats in 1 building\n",
      "['4', '5', '6', '1']\n"
     ]
    }
   ],
   "source": [
    "n = input(\"Enter string: \")\n",
    "\n",
    "num = []\n",
    "for i in range(0,len(n)):\n",
    "    if n[i] >= chr(48) and n[i] <= chr(57):\n",
    "            num.append(n[i])\n",
    "print(num)"
   ]
  },
  {
   "cell_type": "markdown",
   "metadata": {},
   "source": [
    "Question 9:\n",
    "Write a program to compute 1/2+2/3+3/4+...+n/n+1 with a given n\n",
    "input by console (n>0)."
   ]
  },
  {
   "cell_type": "code",
   "execution_count": 2,
   "metadata": {},
   "outputs": [
    {
     "name": "stdout",
     "output_type": "stream",
     "text": [
      "Enter num: 5\n",
      "3.5500000000000003\n"
     ]
    }
   ],
   "source": [
    "n = int(input(\"Enter num: \"))\n",
    "num = 0\n",
    "\n",
    "for i in range(1,n+1):\n",
    "    num += (i / (i+1))\n",
    "print(num)"
   ]
  },
  {
   "cell_type": "markdown",
   "metadata": {},
   "source": [
    "Question 10:\n",
    "Write a program to compute:\n",
    "f(n)=f(n-1)+100 when n>0\n",
    "and f(0)=1\n",
    "with a given n input by console (n>0)."
   ]
  },
  {
   "cell_type": "code",
   "execution_count": 3,
   "metadata": {},
   "outputs": [
    {
     "name": "stdout",
     "output_type": "stream",
     "text": [
      "Enter num: 3\n",
      "301\n"
     ]
    }
   ],
   "source": [
    "def ftn(n):\n",
    "    if n == 0:\n",
    "        return 1\n",
    "    else:\n",
    "        return (ftn(n-1) + 100)\n",
    "\n",
    "\n",
    "n = int(input(\"Enter num: \"))\n",
    "\n",
    "comp = ftn(n)\n",
    "print(comp)"
   ]
  },
  {
   "cell_type": "markdown",
   "metadata": {},
   "source": [
    "Question 11: Write a program to check the validity of password input by\n",
    "users.\n",
    "Following are the criteria for checking the password:\n",
    "1. At least 1 letter between [a-z]\n",
    "2. At least 1 number between [0-9]\n",
    "1. At least 1 letter between [A-Z]\n",
    "3. At least 1 character from [$#@]\n",
    "4. Minimum length of transaction password: 6\n",
    "5. Maximum length of transaction password: 12"
   ]
  },
  {
   "cell_type": "code",
   "execution_count": 1,
   "metadata": {},
   "outputs": [
    {
     "name": "stdout",
     "output_type": "stream",
     "text": [
      "Enter password: ABd1234@1,a F1#,2w3E*,2We3345\n",
      "ABd1234@1  : password is valid\n",
      "a F1# :Invalid Password: length should be between 6 and 12\n",
      "2w3E* :Invalid Password: length should be between 6 and 12\n",
      "2We3345 : Password is invalid\n"
     ]
    }
   ],
   "source": [
    "p1 = input(\"Enter password: \")\n",
    "p1 = p1.split(sep = ',')\n",
    "\n",
    "for p in p1:\n",
    "    num_check = False\n",
    "    small_al = False\n",
    "    cap_al = False\n",
    "    spec = False\n",
    "    if len(p) >= 6 and len(p) <= 12:\n",
    "        for i in range(0,len(p)):\n",
    "            if p[i] >= chr(48) and p[i] <= chr(57):\n",
    "                num_check = True\n",
    "            elif p[i] >= chr(97) and p[i] <= chr(122):\n",
    "                small_al = True\n",
    "            elif p[i] >= chr(65) and p[i] <= chr(90):\n",
    "                cap_al = True\n",
    "            elif p[i] == '$' or p[i] == '@' or p[i] == '#':\n",
    "                spec = True \n",
    "        if (num_check and small_al and cap_al and spec) == True:\n",
    "            print(p,\" : password is valid\")\n",
    "        else:\n",
    "            print(p,\": Password is invalid\")\n",
    "    else:\n",
    "        print(p,\":Invalid Password: length should be between 6 and 12\")"
   ]
  },
  {
   "cell_type": "markdown",
   "metadata": {},
   "source": [
    "Question 12:\n",
    "You are required to write a program to sort the (name, age, height)\n",
    "tuples by ascending order where name is string, age and height are\n",
    "numbers. The tuples are input by console. The sort criteria is:\n",
    "1: Sort based on name;\n",
    "2: Then sort based on age;\n",
    "3: Then sort by score.\n",
    "The priority is that name > age > score."
   ]
  },
  {
   "cell_type": "code",
   "execution_count": 2,
   "metadata": {},
   "outputs": [
    {
     "name": "stdout",
     "output_type": "stream",
     "text": [
      "Enter any Key for Data Entry\n",
      "Enter 1 for Exit: 8\n",
      "Enter name,age,score: Faraz,45,100\n",
      "Enter any Key for Data Entry\n",
      "Enter 1 for Exit: 3\n",
      "Enter name,age,score: Ahmed,89,200\n",
      "Enter any Key for Data Entry\n",
      "Enter 1 for Exit: b\n",
      "Enter name,age,score: Ahmed,15,90\n",
      "Enter any Key for Data Entry\n",
      "Enter 1 for Exit: 1\n",
      "[['Ahmed', '15', '90'], ['Ahmed', '89', '200'], ['Faraz', '45', '100']]\n"
     ]
    }
   ],
   "source": [
    "import operator\n",
    "a = []\n",
    "\n",
    "while True:\n",
    "    print(\"Enter any Key for Data Entry\")\n",
    "    check = input(\"Enter 1 for Exit: \")\n",
    "    if check == '1':\n",
    "        break\n",
    "    else:\n",
    "        p1 = input(\"Enter name,age,score: \")\n",
    "        p1 = p1.split(sep= ',')\n",
    "        a.append(p1)\n",
    "\n",
    "final = sorted(a, key = operator.itemgetter(0,1,2) )\n",
    "\n",
    "print(final)"
   ]
  },
  {
   "cell_type": "markdown",
   "metadata": {},
   "source": [
    "Question 13:\n",
    "Define a class with a generator which can iterate the numbers, which\n",
    "are divisible by 7, between a given range 0 and n."
   ]
  },
  {
   "cell_type": "code",
   "execution_count": 2,
   "metadata": {},
   "outputs": [
    {
     "name": "stdout",
     "output_type": "stream",
     "text": [
      "Enter Number: 21\n",
      "Numbers divisible by 7 in range of  21  are\n",
      "0\n",
      "7\n",
      "14\n",
      "21\n"
     ]
    }
   ],
   "source": [
    "class Divi7:\n",
    "    def __init__(self,n):\n",
    "        self.n = n\n",
    "\n",
    "    def gen(self):\n",
    "        for i in range(self.n+1):\n",
    "            if (i % 7) == 0:\n",
    "                yield i\n",
    "                \n",
    "n = input(\"Enter Number: \")\n",
    "n = int(n)\n",
    "a = Divi7(n)\n",
    "print(\"Numbers divisible by 7 in range of \",n,\" are\")\n",
    "for b in a.gen():\n",
    "    print(b)"
   ]
  },
  {
   "cell_type": "markdown",
   "metadata": {},
   "source": [
    "Question 14:\n",
    "A robot moves in a plane starting from the original point (0,0). The\n",
    "robot can move toward UP, DOWN, LEFT and RIGHT with a given steps.\n",
    "The trace of robot movement is shown as the following:\n",
    "UP 5\n",
    "DOWN 3\n",
    "LEFT 3\n",
    "RIGHT 2\n",
    "¡\n",
    "The numbers after the direction are steps. Please write a program to\n",
    "compute the distance from current position after a sequence of\n",
    "movement and original point. If the distance is a float, then just\n",
    "print the nearest integer."
   ]
  },
  {
   "cell_type": "code",
   "execution_count": 5,
   "metadata": {},
   "outputs": [
    {
     "name": "stdout",
     "output_type": "stream",
     "text": [
      "Enter any Key for Distance\n",
      "Enter 1 for Exit: e\n",
      "Enter distance as UP/DOWN/LEFT/RIGHT #distance: UP 5\n",
      "Enter any Key for Distance\n",
      "Enter 1 for Exit: 3\n",
      "Enter distance as UP/DOWN/LEFT/RIGHT #distance: DOWN 3\n",
      "Enter any Key for Distance\n",
      "Enter 1 for Exit: 3\n",
      "Enter distance as UP/DOWN/LEFT/RIGHT #distance: LEFT 7\n",
      "Enter any Key for Distance\n",
      "Enter 1 for Exit: f\n",
      "Enter distance as UP/DOWN/LEFT/RIGHT #distance: RIGHT 8\n",
      "Enter any Key for Distance\n",
      "Enter 1 for Exit: 1\n",
      "Total Distance:  15\n"
     ]
    }
   ],
   "source": [
    "import math\n",
    "\n",
    "a = []\n",
    "\n",
    "while True:\n",
    "    print(\"Enter any Key for Distance\")\n",
    "    check = input(\"Enter 1 for Exit: \")\n",
    "    if check == '1':\n",
    "        break\n",
    "    else:\n",
    "        p1 = input(\"Enter distance as UP/DOWN/LEFT/RIGHT #distance: \")\n",
    "        p1 = p1.split(sep= ' ')\n",
    "        a.append(p1)\n",
    "\n",
    "x = 0\n",
    "y = 0\n",
    "for i in range(0,len(a)):\n",
    "    if a[i][0] == 'UP':\n",
    "        y += int(a[i][1])\n",
    "    elif a[i][0] == 'DOWN':\n",
    "        y -= int(a[i][1])\n",
    "    elif a[i][0] == 'LEFT':\n",
    "        x += int(a[i][1])\n",
    "    elif a[i][0] == 'RIGHT':\n",
    "        x += int(a[i][1])\n",
    "\n",
    "dis = math.sqrt(x ** 2 + y **2)\n",
    "print(\"Total Distance: \",int(dis))"
   ]
  },
  {
   "cell_type": "markdown",
   "metadata": {},
   "source": [
    "Question 15:\n",
    "Write a program to compute the frequency of the words from the\n",
    "input. The output should output after sorting the key\n",
    "alphanumerically."
   ]
  },
  {
   "cell_type": "code",
   "execution_count": 6,
   "metadata": {},
   "outputs": [
    {
     "name": "stdout",
     "output_type": "stream",
     "text": [
      "Enter String: This is a new Day and new life and new Day 2. 3 2 3 3 44 4. is\n",
      "This  :  1\n",
      "a  :  1\n",
      "life  :  1\n",
      "2.  :  1\n",
      "2  :  1\n",
      "44  :  1\n",
      "4.  :  1\n",
      "is  :  2\n",
      "Day  :  2\n",
      "and  :  2\n",
      "new  :  3\n",
      "3  :  3\n"
     ]
    }
   ],
   "source": [
    "n = input(\"Enter String: \")\n",
    "n = n.split(sep=' ')\n",
    "n1 = {}\n",
    "\n",
    "for i in range(0,len(n)):\n",
    "    value = 0\n",
    "    for j in range(0,i+1):\n",
    "        if n[i] == n[j]:\n",
    "            value += 1\n",
    "    n1[n[i]]=value\n",
    "\n",
    "for i,j in sorted(n1.items(), key= lambda item: item[1]):\n",
    "    print(i,\" : \",j)"
   ]
  }
 ],
 "metadata": {
  "kernelspec": {
   "display_name": "Python 3",
   "language": "python",
   "name": "python3"
  },
  "language_info": {
   "codemirror_mode": {
    "name": "ipython",
    "version": 3
   },
   "file_extension": ".py",
   "mimetype": "text/x-python",
   "name": "python",
   "nbconvert_exporter": "python",
   "pygments_lexer": "ipython3",
   "version": "3.7.4"
  }
 },
 "nbformat": 4,
 "nbformat_minor": 2
}
