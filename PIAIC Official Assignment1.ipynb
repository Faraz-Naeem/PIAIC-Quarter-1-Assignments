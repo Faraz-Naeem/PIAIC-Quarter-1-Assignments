{
 "cells": [
  {
   "cell_type": "markdown",
   "metadata": {},
   "source": [
    "# PIAIC Official Assignment 1\n",
    "Name: Faraz Naeem\n",
    "Reg: PIAIC65534\n",
    "Class: AI (9 to 12 Quarter 1)\n",
    "City: Islamabad"
   ]
  },
  {
   "cell_type": "markdown",
   "metadata": {},
   "source": [
    "1. Calculate Area of a Circle"
   ]
  },
  {
   "cell_type": "code",
   "execution_count": 3,
   "metadata": {},
   "outputs": [
    {
     "name": "stdout",
     "output_type": "stream",
     "text": [
      "Enter circle Radius: 4\n",
      "Area of Circle with  4.0  =  50.24\n"
     ]
    }
   ],
   "source": [
    "Radius = float(input(\"Enter circle Radius: \"))\n",
    "PI = 3.14\n",
    "Area = PI * (Radius ** 2)\n",
    "print(\"Area of Circle with \",Radius,\" = \",Area)"
   ]
  },
  {
   "cell_type": "markdown",
   "metadata": {},
   "source": [
    "2. Check Number either positive, negative or zero"
   ]
  },
  {
   "cell_type": "code",
   "execution_count": 6,
   "metadata": {},
   "outputs": [
    {
     "name": "stdout",
     "output_type": "stream",
     "text": [
      "Enter number: -6\n",
      "number  -6  is negative\n"
     ]
    }
   ],
   "source": [
    "number = int(input(\"Enter number: \"))\n",
    "if number > 0:\n",
    "    print(\"number \",number,\" is positive\")\n",
    "elif number < 0:\n",
    "    print(\"number \",number,\" is negative\")\n",
    "else:\n",
    "    print(\"number\",number,\" is zero\")"
   ]
  },
  {
   "cell_type": "markdown",
   "metadata": {},
   "source": [
    "3. Divisibility Check of two numbers"
   ]
  },
  {
   "cell_type": "code",
   "execution_count": 8,
   "metadata": {},
   "outputs": [
    {
     "name": "stdout",
     "output_type": "stream",
     "text": [
      "Enter numenator: 5\n",
      "Enter denumenator: 6\n",
      "number  5  is not divisible by  6\n"
     ]
    }
   ],
   "source": [
    "num = int(input(\"Enter numenator: \"))\n",
    "denum = int(input(\"Enter denumenator: \"))\n",
    "if num % denum == 0:\n",
    "    print(\"number \",num, \" is divisible by \",denum)\n",
    "else:\n",
    "    print(\"number \",num, \" is not divisible by \",denum)"
   ]
  },
  {
   "cell_type": "markdown",
   "metadata": {},
   "source": [
    "4. Days Calculator"
   ]
  },
  {
   "cell_type": "code",
   "execution_count": 1,
   "metadata": {},
   "outputs": [
    {
     "name": "stdout",
     "output_type": "stream",
     "text": [
      "Enter Date 1 in dd/mm/yy: 12/7/2020\n",
      "Enter Date 2 in dd/mm/yy: 14/7/2022\n",
      "There are  2  years  0  months  2  days between 12/7/2020 and 14/7/2022\n"
     ]
    }
   ],
   "source": [
    "date1 = input(\"Enter Date 1 in dd/mm/yy: \")\n",
    "date2 = input(\"Enter Date 2 in dd/mm/yy: \")\n",
    "num1 = date1.split(sep=\"/\")\n",
    "num2 = date2.split(sep=\"/\")\n",
    "Days = int(num1[0]) - int(num2[0])\n",
    "Months = int(num1[1]) - int(num2[1])\n",
    "Years = int(num1[2]) - int(num2[2])\n",
    "if Days < 0:\n",
    "    Days *= -1\n",
    "if Months < 0:\n",
    "    Months *= -1\n",
    "if Years < 0:\n",
    "    Years *= -1\n",
    "print(\"There are \",Years,\" years \",Months,\" months \",Days,\" days between \"+date1+\" and \"+date2)"
   ]
  },
  {
   "cell_type": "markdown",
   "metadata": {},
   "source": [
    "5. Calculate Volume of a sphere"
   ]
  },
  {
   "cell_type": "code",
   "execution_count": 2,
   "metadata": {},
   "outputs": [
    {
     "name": "stdout",
     "output_type": "stream",
     "text": [
      "Enter Volume Radius: 5\n",
      "Volume of Sphere:  523.3333333333334\n"
     ]
    }
   ],
   "source": [
    "Radius = float(input(\"Enter Volume Radius: \"))\n",
    "PI = 3.14\n",
    "Volume = (4/3) * PI * (Radius ** 3)\n",
    "print(\"Volume of Sphere: \",Volume)"
   ]
  },
  {
   "cell_type": "markdown",
   "metadata": {},
   "source": [
    "6. Copy string n times"
   ]
  },
  {
   "cell_type": "code",
   "execution_count": null,
   "metadata": {},
   "outputs": [],
   "source": [
    "String1 = input(\"Enter String: \")\n",
    "num = int(input(\"How many copies of String you need: \"))\n",
    "print(num,\" Copies of \"+String1+\" are \",String1 * num)"
   ]
  },
  {
   "cell_type": "markdown",
   "metadata": {},
   "source": [
    "7. Check if number is Even or Odd"
   ]
  },
  {
   "cell_type": "code",
   "execution_count": 1,
   "metadata": {},
   "outputs": [
    {
     "name": "stdout",
     "output_type": "stream",
     "text": [
      "Enter Number: 4\n",
      "4  is Even\n"
     ]
    }
   ],
   "source": [
    "num = int(input(\"Enter Number: \"))\n",
    "if num % 2 == 0:\n",
    "    print(num, \" is Even\")\n",
    "else:\n",
    "    print(num, \" is Odd\")"
   ]
  },
  {
   "cell_type": "markdown",
   "metadata": {},
   "source": [
    "8. Vowel Tester"
   ]
  },
  {
   "cell_type": "code",
   "execution_count": 2,
   "metadata": {},
   "outputs": [
    {
     "name": "stdout",
     "output_type": "stream",
     "text": [
      "Enter Alphabet: A\n",
      "A  is Vowel\n"
     ]
    }
   ],
   "source": [
    "vowels = ['a','e','i','o','u']\n",
    "alphabet = input(\"Enter Alphabet: \")\n",
    "alphabet1 = alphabet.lower()\n",
    "if alphabet1 in vowels:\n",
    "    print(alphabet,\" is Vowel\")\n",
    "else:\n",
    "    print(alphabet,\" is not Vowel\")"
   ]
  },
  {
   "cell_type": "markdown",
   "metadata": {},
   "source": [
    "9. Triangle area"
   ]
  },
  {
   "cell_type": "code",
   "execution_count": 3,
   "metadata": {},
   "outputs": [
    {
     "name": "stdout",
     "output_type": "stream",
     "text": [
      "Enter Base: 12\n",
      "Enter Height: 14\n",
      "Area of Triangle:  84.0\n"
     ]
    }
   ],
   "source": [
    "Base = float(input(\"Enter Base: \"))\n",
    "Height = float(input(\"Enter Height: \")) \n",
    "Area = (1/2) * (Base * Height)\n",
    "print(\"Area of Triangle: \",Area)"
   ]
  },
  {
   "cell_type": "markdown",
   "metadata": {},
   "source": [
    "10. Calculate Interest"
   ]
  },
  {
   "cell_type": "code",
   "execution_count": 4,
   "metadata": {},
   "outputs": [
    {
     "name": "stdout",
     "output_type": "stream",
     "text": [
      "Please enter principal amount: 10000\n",
      "Please Enter Rate of interest in %: 0.1\n",
      "Enter number of years for investment: 5\n",
      "After 5 years your principal amount 10000.0 over an interest rate of 0.001 % will be 10049.999999999998\n"
     ]
    }
   ],
   "source": [
    "P = float(input(\"Please enter principal amount: \"))\n",
    "r = float(input(\"Please Enter Rate of interest in %: \"))\n",
    "r = r * (1/100)\n",
    "t = int(input(\"Enter number of years for investment: \"))\n",
    "A = P * (1 + (r*t))\n",
    "interest = \"After {} years your principal amount {} over an interest rate of {} % will be {}\"\n",
    "print(interest.format(t,P,r,A))"
   ]
  },
  {
   "cell_type": "markdown",
   "metadata": {},
   "source": [
    "11. Euclidean distance"
   ]
  },
  {
   "cell_type": "code",
   "execution_count": 5,
   "metadata": {},
   "outputs": [
    {
     "name": "stdout",
     "output_type": "stream",
     "text": [
      "Enter Co-ordinate for x1: 2\n",
      "Enter Co-ordinate for x2: 3\n",
      "Enter Co-ordinate for y1: 4\n",
      "Enter Co-ordinate for y2: 4\n",
      "Distance between points (2, 3) and (4, 4) is 2.23606797749979\n"
     ]
    }
   ],
   "source": [
    "import math as m\n",
    "\n",
    "x1 = int(input(\"Enter Co-ordinate for x1: \"))\n",
    "x2 = int(input(\"Enter Co-ordinate for x2: \"))\n",
    "y1 = int(input(\"Enter Co-ordinate for y1: \"))\n",
    "y2 = int(input(\"Enter Co-ordinate for y2: \"))\n",
    "p = (x1,x2)\n",
    "q = (y1,y2)\n",
    "result = m.sqrt(sum((px - qx) ** 2.0 for px, qx in zip(p, q)))\n",
    "ED = \"Distance between points {} and {} is {}\"\n",
    "print(ED.format(p,q,result))\n"
   ]
  },
  {
   "cell_type": "markdown",
   "metadata": {},
   "source": [
    "12. Feet to Centimeter Converter"
   ]
  },
  {
   "cell_type": "code",
   "execution_count": 6,
   "metadata": {},
   "outputs": [
    {
     "name": "stdout",
     "output_type": "stream",
     "text": [
      "Enter Height in feet: 5\n",
      "There are 152.4 cm in 5.0 feet\n"
     ]
    }
   ],
   "source": [
    "feet= float(input(\"Enter Height in feet: \"))\n",
    "cm = feet * 30.48\n",
    "result = \"There are {} cm in {} feet\"\n",
    "print(result.format(cm,feet))"
   ]
  },
  {
   "cell_type": "markdown",
   "metadata": {},
   "source": [
    "13. BMI Calculator"
   ]
  },
  {
   "cell_type": "code",
   "execution_count": 7,
   "metadata": {},
   "outputs": [
    {
     "name": "stdout",
     "output_type": "stream",
     "text": [
      "Enter Height in Cm: 20\n",
      "Enter Weight in Kg: 15\n",
      "Your BMI is  374.99999999999994\n"
     ]
    }
   ],
   "source": [
    "Height = float(input(\"Enter Height in Cm: \"))\n",
    "mass = float(input(\"Enter Weight in Kg: \"))\n",
    "Height = Height * (1/100)\n",
    "BMI = mass / (Height ** 2)\n",
    "print(\"Your BMI is \",BMI)"
   ]
  },
  {
   "cell_type": "markdown",
   "metadata": {},
   "source": [
    "14. Sum of n Positive Integers"
   ]
  },
  {
   "cell_type": "code",
   "execution_count": 8,
   "metadata": {},
   "outputs": [
    {
     "name": "stdout",
     "output_type": "stream",
     "text": [
      "Enter value of n: 10\n",
      "Sum of n Positive integers till  10  is  55\n"
     ]
    }
   ],
   "source": [
    "n = int(input(\"Enter value of n: \"))\n",
    "sum = 0\n",
    "for i in range(1,n+1):\n",
    "    sum = sum + i\n",
    "print(\"Sum of n Positive integers till \",n,\" is \",sum)"
   ]
  },
  {
   "cell_type": "markdown",
   "metadata": {},
   "source": [
    "15. Digits Sum of a Number"
   ]
  },
  {
   "cell_type": "code",
   "execution_count": 9,
   "metadata": {},
   "outputs": [
    {
     "name": "stdout",
     "output_type": "stream",
     "text": [
      "Enter a number: 12345\n",
      "The Sum of 1 + 2 + 3 + 4 + 5  is  15\n"
     ]
    }
   ],
   "source": [
    "n = input(\"Enter a number: \")\n",
    "n = list(n)\n",
    "sum = 0\n",
    "a = \"\"\n",
    "for i in range(0,len(n)):\n",
    "    sum = sum + int(n[i])\n",
    "    a = a + n[i] + \" + \"\n",
    "a1 = a[:-2]\n",
    "print(\"The Sum of\",a1,\"is \",sum)"
   ]
  },
  {
   "cell_type": "markdown",
   "metadata": {},
   "source": [
    "16. Decimal to Binary Converter"
   ]
  },
  {
   "cell_type": "code",
   "execution_count": 10,
   "metadata": {},
   "outputs": [
    {
     "name": "stdout",
     "output_type": "stream",
     "text": [
      "Enter a number: 12\n",
      "Decimal 12 in Binary is 1100\n"
     ]
    }
   ],
   "source": [
    "n = int(input(\"Enter a number: \"))\n",
    "Value = n # for printing\n",
    "bit = \"\"+str(n % 2)\n",
    "while True:\n",
    "    n = n // 2\n",
    "    if n != 0:\n",
    "        r = n % 2\n",
    "        bit = bit + str(r)\n",
    "    else:\n",
    "        break\n",
    "sl=len(bit) \n",
    "Final=bit[sl::-1] # Reverse the string\n",
    "print(\"Decimal\",Value,\"in Binary is\",Final)"
   ]
  },
  {
   "cell_type": "markdown",
   "metadata": {},
   "source": [
    "17. Binary to Decimal Converter"
   ]
  },
  {
   "cell_type": "code",
   "execution_count": 11,
   "metadata": {},
   "outputs": [
    {
     "name": "stdout",
     "output_type": "stream",
     "text": [
      "Enter a binary: 1100\n",
      "Binary 1100 in decimal is:  12\n"
     ]
    }
   ],
   "source": [
    "n = input(\"Enter a binary: \")\n",
    "Value = n # for printing\n",
    "n = list(n)\n",
    "sum = 0\n",
    "b = 0\n",
    "a = len(n)-1\n",
    "for i in range(0,len(n)-1):\n",
    "    sum = sum + (int(n[b]) * (2 ** a))\n",
    "    a -= 1\n",
    "    b += 1\n",
    "print(\"Binary\",Value,\"in decimal is: \",sum)"
   ]
  },
  {
   "cell_type": "markdown",
   "metadata": {},
   "source": [
    "18. Vowel and Consonants Counter"
   ]
  },
  {
   "cell_type": "code",
   "execution_count": 12,
   "metadata": {},
   "outputs": [
    {
     "name": "stdout",
     "output_type": "stream",
     "text": [
      "Enter a String: Hello\n",
      "Vowels:  2\n",
      "Consonants:  3\n"
     ]
    }
   ],
   "source": [
    "vowels = ['a','e','i','o','u']\n",
    "n1 = input(\"Enter a String: \")\n",
    "n = n1.lower()\n",
    "Vcount = 0\n",
    "ccount = 0\n",
    "for i in range(0,len(n)):\n",
    "    if n[i] in vowels:\n",
    "        Vcount += 1\n",
    "    else:\n",
    "        ccount += 1\n",
    "\n",
    "print(\"Vowels: \",Vcount)\n",
    "print(\"Consonants: \",ccount)\n"
   ]
  },
  {
   "cell_type": "markdown",
   "metadata": {},
   "source": [
    "19. Palindrome tester"
   ]
  },
  {
   "cell_type": "code",
   "execution_count": 1,
   "metadata": {},
   "outputs": [
    {
     "name": "stdout",
     "output_type": "stream",
     "text": [
      "Enter a String: AHA\n",
      "AHA  is Palindrome\n"
     ]
    }
   ],
   "source": [
    "n1 = input(\"Enter a String: \")\n",
    "sl=len(n1)\n",
    "Final=n1[sl::-1] # Reverse the string\n",
    "if n1 == Final:\n",
    "    print(n1,\" is Palindrome\")\n",
    "else:\n",
    "    print(n1,\" not is Palindrome\")"
   ]
  },
  {
   "cell_type": "markdown",
   "metadata": {},
   "source": [
    "20. Count Alphabets, Numbers and Special Characters"
   ]
  },
  {
   "cell_type": "code",
   "execution_count": 1,
   "metadata": {},
   "outputs": [
    {
     "name": "stdout",
     "output_type": "stream",
     "text": [
      "Enter a String: Hello World 3.7.2\n",
      "Hello World 3.7.2\n",
      "Alphabets:  10\n",
      "Numbers:  3\n",
      "Special characters:  2\n",
      "Spaces:  2\n"
     ]
    }
   ],
   "source": [
    "n = input(\"Enter a String: \")\n",
    "alpha_count = 0\n",
    "num_count = 0\n",
    "space_count = 0\n",
    "special_chr = 0\n",
    "\n",
    "n1 = n.lower()\n",
    "for i in range(0,len(n1)):\n",
    "    if n1[i] >= chr(97) and n1[i] <= chr(122):\n",
    "        alpha_count += 1\n",
    "    elif n1[i] >= chr(48) and n[i] <= chr(57):\n",
    "        num_count += 1\n",
    "    elif n1[i] == chr(32):\n",
    "        space_count += 1\n",
    "    else:\n",
    "        special_chr += 1\n",
    "\n",
    "print(n)\n",
    "print(\"Alphabets: \",alpha_count)\n",
    "print(\"Numbers: \",num_count)\n",
    "print(\"Special characters: \",special_chr)\n",
    "print(\"Spaces: \",space_count)"
   ]
  },
  {
   "cell_type": "markdown",
   "metadata": {},
   "source": [
    "21. Write a Python program to construct the following pattern\n",
    "*\n",
    "* *\n",
    "* * *\n",
    "* * * *\n",
    "* * * * *\n",
    "* * * *\n",
    "* * *\n",
    "* *\n",
    "*"
   ]
  },
  {
   "cell_type": "code",
   "execution_count": 2,
   "metadata": {},
   "outputs": [
    {
     "name": "stdout",
     "output_type": "stream",
     "text": [
      "Enter Number: 5\n",
      "*\n",
      "**\n",
      "***\n",
      "****\n",
      "*****\n",
      "****\n",
      "***\n",
      "**\n",
      "*\n"
     ]
    }
   ],
   "source": [
    "n = int(input(\"Enter Number: \"))\n",
    "for i in range(1,n):\n",
    "    print (\"*\" * i)\n",
    "\n",
    "for i in range(n,0,-1):\n",
    "    print(\"*\" * i)\n"
   ]
  },
  {
   "cell_type": "markdown",
   "metadata": {},
   "source": [
    "22. Write a Python program to construct the following pattern\n",
    "1\n",
    "1 2\n",
    "1 2 3\n",
    "1 2 3 4\n",
    "1 2 3 4 5\n",
    "1 2 3 4\n",
    "1 2 3\n",
    "1 2\n",
    "1"
   ]
  },
  {
   "cell_type": "code",
   "execution_count": 4,
   "metadata": {},
   "outputs": [
    {
     "name": "stdout",
     "output_type": "stream",
     "text": [
      "Enter number: 10\n",
      "1\n",
      "12\n",
      "123\n",
      "1234\n",
      "12345\n",
      "123456\n",
      "1234567\n",
      "12345678\n",
      "123456789\n",
      "12345678910\n",
      "123456789\n",
      "12345678\n",
      "1234567\n",
      "123456\n",
      "12345\n",
      "1234\n",
      "123\n",
      "12\n",
      "1\n"
     ]
    }
   ],
   "source": [
    "n = int(input(\"Enter number: \"))\n",
    "for i in range(1,n+1):\n",
    "    a = \"\"\n",
    "    for j in range(1,i+1):\n",
    "        a += str(j)\n",
    "    print(a)\n",
    "\n",
    "for i in range(n,1,-1):\n",
    "    a = \"\"\n",
    "    for j in range(1,i):\n",
    "        a += str(j)\n",
    "    print(a)"
   ]
  },
  {
   "cell_type": "markdown",
   "metadata": {},
   "source": [
    "23. Write a Python program to construct the following pattern\n",
    "1\n",
    "22\n",
    "333\n",
    "4444\n",
    "55555\n",
    "666666\n",
    "7777777\n",
    "88888888\n",
    "999999999"
   ]
  },
  {
   "cell_type": "code",
   "execution_count": 3,
   "metadata": {},
   "outputs": [
    {
     "name": "stdout",
     "output_type": "stream",
     "text": [
      "Enter Number: 9\n",
      "1\n",
      "22\n",
      "333\n",
      "4444\n",
      "55555\n",
      "666666\n",
      "7777777\n",
      "88888888\n",
      "999999999\n"
     ]
    }
   ],
   "source": [
    "n = int(input(\"Enter Number: \"))\n",
    "for i in range(1,n+1):\n",
    "    print (str(i) * i)\n"
   ]
  }
 ],
 "metadata": {
  "kernelspec": {
   "display_name": "Python 3",
   "language": "python",
   "name": "python3"
  },
  "language_info": {
   "codemirror_mode": {
    "name": "ipython",
    "version": 3
   },
   "file_extension": ".py",
   "mimetype": "text/x-python",
   "name": "python",
   "nbconvert_exporter": "python",
   "pygments_lexer": "ipython3",
   "version": "3.7.4"
  }
 },
 "nbformat": 4,
 "nbformat_minor": 2
}
